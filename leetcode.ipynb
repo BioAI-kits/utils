{
 "cells": [
  {
   "attachments": {},
   "cell_type": "markdown",
   "metadata": {},
   "source": [
    "### 2. 两数相加\n",
    "\n",
    "对位相加、注意进位的问题。"
   ]
  },
  {
   "cell_type": "code",
   "execution_count": 15,
   "metadata": {},
   "outputs": [
    {
     "data": {
      "text/plain": [
       "[0]"
      ]
     },
     "execution_count": 15,
     "metadata": {},
     "output_type": "execute_result"
    }
   ],
   "source": [
    "def twoSum(l1:list, l2:list) -> list:\n",
    "    # L1: 短序列； L2：长序列\n",
    "    L1 = l1[::-1]\n",
    "    L2 = l2[::-1]\n",
    "    if len(l1) > len(l2):\n",
    "        L1 = l2[::-1]\n",
    "        L2 = l1[::-1]\n",
    "    # 进位相加的数值    \n",
    "    carry = 0\n",
    "    # 输出的序列\n",
    "    res = []\n",
    "    # 对位相加\n",
    "    for i in range(len(L2)):\n",
    "        if i < len(L1):\n",
    "            val = L1[i] + L2[i] + carry\n",
    "        else:\n",
    "            val = L2[i] + carry\n",
    "        if val < 10:\n",
    "            carry = 0\n",
    "        else:\n",
    "            carry = 1\n",
    "            val -= 10\n",
    "        res.append(val)\n",
    "    # 如果最后进位还有数值\n",
    "    if carry == 1:\n",
    "        res.append(carry)\n",
    "    return res\n",
    "\n",
    "twoSum([2,4,3], [5,6,4])\n",
    "twoSum([9,9,9,9,9,9,9], [9,9,9,9])\n",
    "twoSum([0], [0])"
   ]
  },
  {
   "attachments": {},
   "cell_type": "markdown",
   "metadata": {},
   "source": [
    "### 5. 最长回文子串\n",
    "\n",
    "注意回文字符串的特点，即种子延伸法"
   ]
  },
  {
   "cell_type": "code",
   "execution_count": 53,
   "metadata": {},
   "outputs": [
    {
     "data": {
      "text/plain": [
       "'bbb'"
      ]
     },
     "execution_count": 53,
     "metadata": {},
     "output_type": "execute_result"
    }
   ],
   "source": [
    "def longestPalindrome(s:str) -> str:\n",
    "    res = ''  # 定义返回的回文字符串\n",
    "    length = len(s)\n",
    "    \n",
    "    # 如果输入长度为1，则最长回文字符串就是本身\n",
    "    if length < 2:\n",
    "        return s\n",
    "    \n",
    "    bases = []  # 定义列表，用于存储基本的回文字符串的种子。如果一个字符串是回文的，那么只要它两边的字符相同，则也是回文字符串。如bcb是回文，则abcba也是。\n",
    "    for left in range(length):\n",
    "        right_2 = left + 2  # base回文情况有两种，奇数的，如 bcb\n",
    "        right_3 = left + 3  # base回文还有一种偶数的 如 bb\n",
    "        \n",
    "        # 如果是奇数的情况下\n",
    "        if right_2 < length and s[left:right_2] == s[left:right_2][::-1]:\n",
    "                bases.append((left, right_2))\n",
    "        \n",
    "        # 如果是偶数的情况下\n",
    "        if right_3 < length and s[left:right_3] == s[left:right_3][::-1]:\n",
    "                bases.append((left, right_3))\n",
    "    \n",
    "    for (i, j) in bases:\n",
    "        tmp = s[i:j]\n",
    "        if len(tmp) > len(res):\n",
    "            res = tmp\n",
    "        if i-1 > 0 and j+1 < length:\n",
    "            if s[i-1] == s[j+1]:\n",
    "                tmp = s[i-1 : j+1]\n",
    "                i, j = i-1, j+1\n",
    "            else:\n",
    "                break   \n",
    "    return res\n",
    "            \n",
    "        \n",
    "\n",
    "s = \"abbbcccbcbef\"\n",
    "longestPalindrome(s)    "
   ]
  },
  {
   "attachments": {},
   "cell_type": "markdown",
   "metadata": {},
   "source": [
    "### 6. N字形变换\n"
   ]
  },
  {
   "cell_type": "code",
   "execution_count": 18,
   "metadata": {},
   "outputs": [
    {
     "name": "stdout",
     "output_type": "stream",
     "text": [
      "P\n",
      "A\n",
      "Y\n",
      "P\n",
      "A\n",
      "L\n",
      "I\n",
      "S\n",
      "H\n",
      "I\n",
      "R\n",
      "I\n",
      "N\n",
      "G\n"
     ]
    }
   ],
   "source": [
    "def convert(s:str, numRows:int) -> str:\n",
    "    row, col = 0,0\n",
    "    for i, word in enumerate(s):\n",
    "        if i < numRows:\n",
    "            col = 0\n",
    "            row = i\n",
    "        elif numRows <= i < 2*numRows-2:\n",
    "            col += 1\n",
    "            row =  \n",
    "        \n",
    "convert(\"PAYPALISHIRING\", 3)"
   ]
  }
 ],
 "metadata": {
  "kernelspec": {
   "display_name": "base",
   "language": "python",
   "name": "python3"
  },
  "language_info": {
   "codemirror_mode": {
    "name": "ipython",
    "version": 3
   },
   "file_extension": ".py",
   "mimetype": "text/x-python",
   "name": "python",
   "nbconvert_exporter": "python",
   "pygments_lexer": "ipython3",
   "version": "3.9.12"
  },
  "orig_nbformat": 4,
  "vscode": {
   "interpreter": {
    "hash": "2b6e0b6beff3034f82fc5f3607b25d89de06fb8ce75d7e3dc8218d36059a3a02"
   }
  }
 },
 "nbformat": 4,
 "nbformat_minor": 2
}
