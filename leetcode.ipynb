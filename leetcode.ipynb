{
 "cells": [
  {
   "cell_type": "code",
   "execution_count": 51,
   "metadata": {},
   "outputs": [
    {
     "name": "stdout",
     "output_type": "stream",
     "text": [
      "[(1, 3), (1, 4), (2, 4), (4, 6), (4, 7), (5, 7), (6, 9), (7, 10)]\n"
     ]
    },
    {
     "data": {
      "text/plain": [
       "'bbb'"
      ]
     },
     "execution_count": 51,
     "metadata": {},
     "output_type": "execute_result"
    }
   ],
   "source": [
    "def longestPalindrome(s:str) -> str:\n",
    "    res = ''\n",
    "    length = len(s)\n",
    "    \n",
    "    if length < 2:\n",
    "        return s\n",
    "    \n",
    "    bases = []\n",
    "    for left in range(length):\n",
    "        right_2 = left + 2\n",
    "        right_3 = left + 3\n",
    "        \n",
    "        if right_2 < length and s[left:right_2] == s[left:right_2][::-1]:\n",
    "                bases.append((left, right_2))\n",
    "        \n",
    "        if right_3 < length and s[left:right_3] == s[left:right_3][::-1]:\n",
    "                bases.append((left, right_3))\n",
    "    \n",
    "    for (i, j) in bases:\n",
    "        tmp = s[i:j]\n",
    "        if len(tmp) > len(res):\n",
    "            res = tmp\n",
    "        if i-1 > 0 and j+1 < length:\n",
    "            if s[i-1] == s[j+1]:\n",
    "                tmp = s[i-1 : j+1]\n",
    "                i, j = i-1, j+1\n",
    "            else:\n",
    "                break   \n",
    "    return res\n",
    "            \n",
    "        \n",
    "\n",
    "s = \"abbbcccbcbef\"\n",
    "longestPalindrome(s)\n",
    "    \n",
    "    \n",
    "    "
   ]
  }
 ],
 "metadata": {
  "kernelspec": {
   "display_name": "base",
   "language": "python",
   "name": "python3"
  },
  "language_info": {
   "codemirror_mode": {
    "name": "ipython",
    "version": 3
   },
   "file_extension": ".py",
   "mimetype": "text/x-python",
   "name": "python",
   "nbconvert_exporter": "python",
   "pygments_lexer": "ipython3",
   "version": "3.9.12"
  },
  "orig_nbformat": 4,
  "vscode": {
   "interpreter": {
    "hash": "2b6e0b6beff3034f82fc5f3607b25d89de06fb8ce75d7e3dc8218d36059a3a02"
   }
  }
 },
 "nbformat": 4,
 "nbformat_minor": 2
}
