{
 "cells": [
  {
   "cell_type": "code",
   "execution_count": 53,
   "metadata": {},
   "outputs": [
    {
     "data": {
      "text/plain": [
       "'bbb'"
      ]
     },
     "execution_count": 53,
     "metadata": {},
     "output_type": "execute_result"
    }
   ],
   "source": [
    "def longestPalindrome(s:str) -> str:\n",
    "    res = ''  # 定义返回的回文字符串\n",
    "    length = len(s)\n",
    "    \n",
    "    # 如果输入长度为1，则最长回文字符串就是本身\n",
    "    if length < 2:\n",
    "        return s\n",
    "    \n",
    "    bases = []  # 定义列表，用于存储基本的回文字符串的种子。如果一个字符串是回文的，那么只要它两边的字符相同，则也是回文字符串。如bcb是回文，则abcba也是。\n",
    "    for left in range(length):\n",
    "        right_2 = left + 2  # base回文情况有两种，奇数的，如 bcb\n",
    "        right_3 = left + 3  # base回文还有一种偶数的 如 bb\n",
    "        \n",
    "        # 如果是奇数的情况下\n",
    "        if right_2 < length and s[left:right_2] == s[left:right_2][::-1]:\n",
    "                bases.append((left, right_2))\n",
    "        \n",
    "        # 如果是偶数的情况下\n",
    "        if right_3 < length and s[left:right_3] == s[left:right_3][::-1]:\n",
    "                bases.append((left, right_3))\n",
    "    \n",
    "    for (i, j) in bases:\n",
    "        tmp = s[i:j]\n",
    "        if len(tmp) > len(res):\n",
    "            res = tmp\n",
    "        if i-1 > 0 and j+1 < length:\n",
    "            if s[i-1] == s[j+1]:\n",
    "                tmp = s[i-1 : j+1]\n",
    "                i, j = i-1, j+1\n",
    "            else:\n",
    "                break   \n",
    "    return res\n",
    "            \n",
    "        \n",
    "\n",
    "s = \"abbbcccbcbef\"\n",
    "longestPalindrome(s)    "
   ]
  }
 ],
 "metadata": {
  "kernelspec": {
   "display_name": "base",
   "language": "python",
   "name": "python3"
  },
  "language_info": {
   "codemirror_mode": {
    "name": "ipython",
    "version": 3
   },
   "file_extension": ".py",
   "mimetype": "text/x-python",
   "name": "python",
   "nbconvert_exporter": "python",
   "pygments_lexer": "ipython3",
   "version": "3.9.12"
  },
  "orig_nbformat": 4,
  "vscode": {
   "interpreter": {
    "hash": "2b6e0b6beff3034f82fc5f3607b25d89de06fb8ce75d7e3dc8218d36059a3a02"
   }
  }
 },
 "nbformat": 4,
 "nbformat_minor": 2
}
